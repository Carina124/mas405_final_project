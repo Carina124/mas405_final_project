{
 "cells": [
  {
   "cell_type": "markdown",
   "id": "9648674f",
   "metadata": {},
   "source": [
    "## the NOTEBOOOOK "
   ]
  },
  {
   "cell_type": "markdown",
   "id": "4a561ba0",
   "metadata": {},
   "source": [
    "Here were importing the libraries we need "
   ]
  },
  {
   "cell_type": "code",
   "execution_count": null,
   "id": "0285ec13",
   "metadata": {},
   "outputs": [],
   "source": [
    "import pymysql\n",
    "import pandas as pd"
   ]
  },
  {
   "cell_type": "markdown",
   "id": "877d1b7a",
   "metadata": {},
   "source": [
    "Here we input Angles ROuser information, connect to Angles database, and get a dataframe back"
   ]
  },
  {
   "cell_type": "code",
   "execution_count": null,
   "id": "4731885b",
   "metadata": {},
   "outputs": [],
   "source": [
    "MAS405_AWS_ANGEL_DB_ROUSER_PW = 'Password12345'\n",
    "MAS405_AWS_ANGEL_DB_ROUSER_HOST = 'database-1.cgxqpqgnm2yp.us-west-1.rds.amazonaws.com'\n",
    "MAS405_AWS_ANGEL_DB_ROUSER_USER = 'ROuser'\n",
    "MAS405_AWS_ANGEL_DB_ROUSER_DBNAME = 'MyDB'\n",
    "MAS405_AWS_ANGEL_DB_ROUSER_PORT = 3306\n",
    "\n",
    "con = pymysql.connect(host = MAS405_AWS_ANGEL_DB_ROUSER_HOST, user = MAS405_AWS_ANGEL_DB_ROUSER_USER, password = MAS405_AWS_ANGEL_DB_ROUSER_PW, database=MAS405_AWS_ANGEL_DB_ROUSER_DBNAME, port=MAS405_AWS_ANGEL_DB_ROUSER_PORT)\n",
    "\n",
    "#im not entierly sure why we need this line but it seems like its instantiating a family of functions that help extract information from the con\n",
    "#okay maybe dont need line below \n",
    "#cursor = con.cursor()\n",
    "\n",
    "query1 = 'select * from Sonnets'\n",
    "#sent to data base here and the returning result is a pandas data frame \n",
    "dataframe = pd.read_sql(query1, con)\n",
    "print(dataframe)\n",
    "print(type(dataframe))"
   ]
  },
  {
   "cell_type": "markdown",
   "id": "8db60ad4",
   "metadata": {},
   "source": []
  },
  {
   "cell_type": "code",
   "execution_count": null,
   "id": "d7224be4",
   "metadata": {},
   "outputs": [],
   "source": [
    "##########       nlp part\n",
    "# run these two lines in the pycharm terminal before running not too sure what the drill is for juypeter notebooks though\n",
    "# python -c \"import nltk; nltk.download('punkt')\"\n",
    "# python -c \"import nltk; nltk.download('stopwords')\"\n",
    "\n",
    "from rake_nltk import Rake\n",
    "\n",
    "r = Rake()\n",
    "r.extract_keywords_from_text(extract_text())\n",
    "for rating, keyword in r.get_ranked_phrases_with_scores():\n",
    "    if rating > 5:\n",
    "        print(rating, keyword)"
   ]
  },
  {
   "cell_type": "code",
   "execution_count": null,
   "id": "5d520e2b",
   "metadata": {},
   "outputs": [],
   "source": []
  },
  {
   "cell_type": "code",
   "execution_count": null,
   "id": "f8ef2812",
   "metadata": {},
   "outputs": [],
   "source": []
  },
  {
   "cell_type": "code",
   "execution_count": null,
   "id": "f86a69e7",
   "metadata": {},
   "outputs": [],
   "source": []
  },
  {
   "cell_type": "code",
   "execution_count": null,
   "id": "664c832e",
   "metadata": {},
   "outputs": [],
   "source": []
  }
 ],
 "metadata": {
  "kernelspec": {
   "display_name": "Python 3 (ipykernel)",
   "language": "python",
   "name": "python3"
  },
  "language_info": {
   "codemirror_mode": {
    "name": "ipython",
    "version": 3
   },
   "file_extension": ".py",
   "mimetype": "text/x-python",
   "name": "python",
   "nbconvert_exporter": "python",
   "pygments_lexer": "ipython3",
   "version": "3.10.4"
  }
 },
 "nbformat": 4,
 "nbformat_minor": 5
}
